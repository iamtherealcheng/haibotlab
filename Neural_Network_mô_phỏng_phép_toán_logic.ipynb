{
  "nbformat": 4,
  "nbformat_minor": 0,
  "metadata": {
    "colab": {
      "name": "Neural_Network_mô phỏng phép toán logic",
      "provenance": [],
      "collapsed_sections": []
    },
    "kernelspec": {
      "name": "python3",
      "display_name": "Python 3"
    },
    "language_info": {
      "name": "python"
    }
  },
  "cells": [
    {
      "cell_type": "code",
      "execution_count": null,
      "metadata": {
        "colab": {
          "base_uri": "https://localhost:8080/"
        },
        "id": "UdEISO7rChQb",
        "outputId": "150ff82e-fc36-464c-8676-2d620b287e9e"
      },
      "outputs": [
        {
          "output_type": "stream",
          "name": "stdout",
          "text": [
            "[[0.46778748 0.20174323 0.64040673 0.48306984]\n",
            " [0.50523672 0.38689265 0.79363745 0.58000418]\n",
            " [0.1622986  0.70075235 0.96455108 0.50000836]]\n"
          ]
        }
      ],
      "source": [
        "#khoi tao\n",
        "\n",
        "import  numpy as np\n",
        "import matplotlib.pyplot as plt\n",
        "\n",
        "\n",
        "# thiep lap input layer\n",
        "x_input=np.array([[0,0,1,1],[0,1,0,1]])\n",
        "m = x_input.shape[1]\n",
        "# tốc độ học tập\n",
        "lr=0.2\n",
        "# thie lap outputlayer \n",
        "y_output=np.array([[0,0,0,1]]) \n",
        "'''and'''\n",
        "'''y_output=np.array([[0,1,1,1]]])  OR'''\n",
        "'''y_output=np.array([[0,1,1,1]]])  XOR'''\n",
        "# thiep lap so neural o input\n",
        "n_x = 2\n",
        "# thiet lap so neural o outputlayer\n",
        "n_y = 1\n",
        "# se co 3 lop hiden\n",
        "n_h1 = 5\n",
        "n_h2 = 4\n",
        "n_h3 = 3\n",
        "\n",
        "np.random.seed(2)\n",
        "#se co 4 weith ta chon bua tham so cho no\n",
        "w1 = np.random.rand(n_h1,n_x)\n",
        "w2 = np.random.rand(n_h2,n_h1)\n",
        "w3 = np.random.rand(n_h3,n_h2)\n",
        "w4 = np.random.rand(n_y,n_h3)\n",
        "#luu looses function\n",
        "losses = []\n",
        "\n",
        "print(w3)"
      ]
    },
    {
      "cell_type": "markdown",
      "source": [
        "Bây giờ đến phần hàm:: ở đây tôi dùng hàm sigmoid\n"
      ],
      "metadata": {
        "id": "wfIr4dWhGURH"
      }
    },
    {
      "cell_type": "code",
      "source": [
        "def sigmoid(z):\n",
        "    z= 1/(1+np.exp(-z))\n",
        "    return z\n",
        "def forward_prop(w1,w2,w3,w4,x_input):\n",
        "  z1=np.dot(w1,x_input)\n",
        "  a1=sigmoid(z1)\n",
        "  z2=np.dot(w2,a1)\n",
        "  a2=sigmoid(z2)\n",
        "  z3=np.dot(w3,a2)\n",
        "  a3=sigmoid(z3)\n",
        "  z4=np.dot(w4,a3)\n",
        "  a4=sigmoid(z4)\n",
        "  return z1,a1,z2,a2,z3,a3,z4,a4\n",
        "def back_prop(w1,w2,w3,w4,z1,a1,z2,a2,z3,a3,z4,a4,y_output):\n",
        "  dz4 = a4-y_output\n",
        "  dw4 = np.dot(dz4,a3.T)/m\n",
        "  dz3 = np.dot(w4.T,dz4) * a3*(1-a3)\n",
        "  dw3 = np.dot(dz3,a2.T)/m\n",
        "  dz2 = np.dot(w3.T,dz3) * a2*(1-a2)\n",
        "  dw2 = np.dot(dz2,a1.T)/m\n",
        "  dz1 = np.dot(w2.T,dz2) * a1*(1-a1)\n",
        "  dw1 = np.dot(dz1,x_input.T)/m\n",
        "\n",
        "  dw1 = np.reshape(dw1,w1.shape)\n",
        "  dw2 = np.reshape(dw2,w2.shape) \n",
        "  dw3 = np.reshape(dw3,w3.shape)\n",
        "  dw4 = np.reshape(dw4,w4.shape)\n",
        "  return dz4,dw4,dz3,dw3,dz2,dw2,dz1,dw1"
      ],
      "metadata": {
        "id": "e5cOfIAvGgDF"
      },
      "execution_count": null,
      "outputs": []
    },
    {
      "cell_type": "markdown",
      "source": [
        "Tiếp theo đến quá trình training"
      ],
      "metadata": {
        "id": "CCM79RUUKm3q"
      }
    },
    {
      "cell_type": "code",
      "source": [
        "iterations = 10000\n",
        "for i in range(iterations):\n",
        "  z1,a1,z2,a2,z3,a3,z4,a4 = forward_prop(w1,w2,w3,w4,x_input)\n",
        "  loss = -(1/m)*np.sum(y_output*np.log(a4)+(1-y_output)*np.log(1-a4))\n",
        "  losses.append(loss)\n",
        "  dz4,dw4,dz3,dw3,dz2,dw2,dz1,dw1 = back_prop(w1,w2,w3,w4,z1,a1,z2,a2,z3,a3,z4,a4,y_output)\n",
        "  w2 = w2-lr*dw2\n",
        "  w1 = w1-lr*dw1\n",
        "  w3 = w3-lr*dw3\n",
        "  w4 = w4-lr*dw4\n",
        "print(a4 )\n",
        "plt.plot(losses)\n",
        "\n",
        "plt.ylabel(\"Loss xor\")\n"
      ],
      "metadata": {
        "colab": {
          "base_uri": "https://localhost:8080/",
          "height": 302
        },
        "id": "Jc1k8tK2Kt7Y",
        "outputId": "3ab1d581-c4c0-411f-86a2-bae52d795d62"
      },
      "execution_count": null,
      "outputs": [
        {
          "output_type": "stream",
          "name": "stdout",
          "text": [
            "[[3.13768199e-04 1.27259271e-03 1.75106796e-03 9.92642097e-01]]\n"
          ]
        },
        {
          "output_type": "execute_result",
          "data": {
            "text/plain": [
              "Text(0, 0.5, 'Loss xor')"
            ]
          },
          "metadata": {},
          "execution_count": 298
        },
        {
          "output_type": "display_data",
          "data": {
            "text/plain": [
              "<Figure size 432x288 with 1 Axes>"
            ],
            "image/png": "[encoded data removed]"
          },
          "metadata": {
            "needs_background": "light"
          }
        }
      ]
    },
    {
      "cell_type": "markdown",
      "source": [
        "tiếp theo tới quá trình test:"
      ],
      "metadata": {
        "id": "XP6fCkglNa9c"
      }
    },
    {
      "cell_type": "code",
      "source": [
        "def predict(w1,w2,w3,w4,input):\n",
        "  z1,a1,z2,a2,z3,a3,z4,a4 = forward_prop(w1,w2,w3,w4,test);\n",
        "  a4 = np.squeeze(a4)\n",
        "  if a4>=0.5:\n",
        "      print(\" Đầu vào \", [i[0] for i in input], \"đầu ra 1\")\n",
        "  else:\n",
        "      print(\" Đầu vào \", [i[0] for i in input], \"đầu ra 0\")\n",
        "\n",
        "test = np.array([[1],[0]])\n",
        "predict(w1,w2,w3,w4,test)\n",
        "test = np.array([[0],[0]])\n",
        "predict(w1,w2,w3,w4,test)\n",
        "test = np.array([[0],[1]])\n",
        "predict(w1,w2,w3,w4,test)\n",
        "test = np.array([[1],[1]])\n",
        "predict(w1,w2,w3,w4,test)\n"
      ],
      "metadata": {
        "colab": {
          "base_uri": "https://localhost:8080/"
        },
        "id": "dNbwvQuvN_LS",
        "outputId": "8c251710-c2b5-4534-ffd7-ef76e89b58a4"
      },
      "execution_count": null,
      "outputs": [
        {
          "output_type": "stream",
          "name": "stdout",
          "text": [
            " Đầu vào  [1, 0] đầu ra 0\n",
            " Đầu vào  [0, 0] đầu ra 0\n",
            " Đầu vào  [0, 1] đầu ra 0\n",
            " Đầu vào  [1, 1] đầu ra 1\n"
          ]
        }
      ]
    }
  ]
}